{
  "cells": [
    {
      "cell_type": "code",
      "execution_count": null,
      "id": "CgXutYwHYMOA",
      "metadata": {
        "colab": {
          "base_uri": "https://localhost:8080/"
        },
        "id": "CgXutYwHYMOA",
        "outputId": "70712da7-f229-4c49-d198-8416133f9bb7"
      },
      "outputs": [
        {
          "name": "stdout",
          "output_type": "stream",
          "text": [
            "\u001b[2mUsing Python 3.12.12 environment at: /usr\u001b[0m\n",
            "\u001b[2mAudited \u001b[1m8 packages\u001b[0m \u001b[2min 237ms\u001b[0m\u001b[0m\n"
          ]
        }
      ],
      "source": [
        "!uv pip install faster-whisper gigaam evaluate torch torchvision vosk jiwer"
      ]
    },
    {
      "cell_type": "markdown",
      "id": "9fb37518",
      "metadata": {
        "id": "9fb37518"
      },
      "source": [
        "# Whisper без контекста (medium)\n"
      ]
    },
    {
      "cell_type": "code",
      "execution_count": null,
      "id": "Kti2hLjmYRSD",
      "metadata": {
        "colab": {
          "base_uri": "https://localhost:8080/"
        },
        "id": "Kti2hLjmYRSD",
        "outputId": "a175a6a4-d9cd-4f3e-d7a0-f8488b8449c5"
      },
      "outputs": [
        {
          "name": "stdout",
          "output_type": "stream",
          "text": [
            "Mounted at /content/drive\n"
          ]
        }
      ],
      "source": [
        "from google.colab import drive\n",
        "drive.mount('/content/drive')\n"
      ]
    },
    {
      "cell_type": "code",
      "execution_count": null,
      "id": "dGd0pyF8WSTu",
      "metadata": {
        "id": "dGd0pyF8WSTu"
      },
      "outputs": [],
      "source": [
        "from evaluate import load"
      ]
    },
    {
      "cell_type": "code",
      "execution_count": null,
      "id": "aa942554",
      "metadata": {
        "colab": {
          "base_uri": "https://localhost:8080/"
        },
        "id": "aa942554",
        "outputId": "82359a28-7e9f-438e-f0a1-92bfc9a81019"
      },
      "outputs": [
        {
          "name": "stdout",
          "output_type": "stream",
          "text": [
            "1.wav: RTF=0.252  |  Транскрипция: Пилот Макса Ферстапона завоевал полупозицию в квалификации Монако, показав лучшее время в Ку-3.\n",
            "2.wav: RTF=0.109  |  Транскрипция: Команда Red Bull применила undercut, чтобы обогнать Ferrari на pit stop и выйти в лидеры гонки.\n",
            "3.wav: RTF=0.124  |  Транскрипция: Валиты Mercedes демонстрируют отличный баланс тормозов на трассе Silverstone, что помогает в быстрых поворотах\n",
            "4.wav: RTF=0.141  |  Транскрипция: Льюис Хэмильтон лидировал весь гран-при, завоевав большой шлем с лучшим кругом и победой.\n",
            "5.wav: RTF=0.111  |  Транскрипция: В спринтрейсе пилоты ХАС столкнулись с ДРС зоной, но не смогли активировать систему из-за разницы в скорости.\n",
            "6.wav: RTF=0.137  |  Транскрипция: Charles Leclerc прошел apex в повороте гурбопараболика идеально, минимизируя временно круги\n",
            "7.wav: RTF=0.148  |  Транскрипция: Команда Alpine выбрала стратегию с двумя бит-стопами на медиум-шинах, чтобы избежать износа в жаркую погоду.\n",
            "8.wav: RTF=0.197  |  Транскрипция: Sergio Perez получил штраф за виртуальный сейфти кар, нарушив лимит трассы на выходе из боксов.\n",
            "9.wav: RTF=0.265  |  Транскрипция: В квалификации Ку-1 гонщик Вильямс не уложился в 107% от Поула и был исключен из старта.\n",
            "10.wav: RTF=0.231  |  Транскрипция: Конструкторы Ferrari обновили аэродинамику болида, увеличив прижимную силу для лучшей управляемости в высокоскоростных секциях.\n"
          ]
        }
      ],
      "source": [
        "from faster_whisper import WhisperModel\n",
        "import time\n",
        "import os\n",
        "from evaluate import load\n",
        "\n",
        "model_size = \"medium\"\n",
        "model = WhisperModel(model_size, device=\"cuda\")\n",
        "\n",
        "result = {}\n",
        "for i in range(1, 11):\n",
        "    wav_path = f'/content/drive/MyDrive/dataset/{i}.wav'\n",
        "    start = time.time()\n",
        "    segments, info = model.transcribe(wav_path, beam_size=5)\n",
        "    segments = list(segments)\n",
        "    dur_infer = time.time() - start\n",
        "\n",
        "    transcript = \" \".join([seg.text.strip() for seg in segments])\n",
        "    audio_dur = sum([seg.end - seg.start for seg in segments])\n",
        "    rtf = dur_infer / audio_dur if audio_dur > 0 else 0\n",
        "\n",
        "    result[i] = {\n",
        "        \"transcript\": transcript,\n",
        "        \"rtf\": rtf\n",
        "    }\n",
        "    with open(f'{i}_whisper.txt', 'w', encoding='utf8') as f:\n",
        "        f.write(transcript)\n",
        "\n",
        "    print(f\"{i}.wav: RTF={rtf:.3f}  |  Транскрипция: {transcript}\")\n",
        "\n"
      ]
    },
    {
      "cell_type": "code",
      "execution_count": null,
      "id": "1d78fc4a",
      "metadata": {
        "colab": {
          "base_uri": "https://localhost:8080/",
          "height": 341,
          "referenced_widgets": [
            "a46d016c9c6a44ea913e8e35b7ab3a44",
            "78539bf65c9249d99e435859759fc7a8",
            "65a411936a6840f3ba356183dad08dc6",
            "75235d37e5a4426f9b7b2166582282c1",
            "49da6e8f59844e04b2d5fe03f415d9bb",
            "97bffa3d6de04b12bd9698dc6f3da9eb",
            "aa6c665aff3646d8a9064c46865f3db0",
            "3a6257348aba48d3933011724fb84c1c",
            "3f4aaa560fca43f2aa9bdb947de1cb1e",
            "a8b6e520bea94eb1964610a3b315e77b",
            "63f13c299d1e4395ab718d18970ec35d",
            "8311f120b3ca4623bb2cb2c549e93113",
            "a65dcd954ebc44e2a3dde4dc70ea4953",
            "0cbca95940ce481dab02fcd787ab2ad2",
            "3580f65bead348b7a9e2d0d39b2e1c7e",
            "f519e7c0661048d384a8d72d3230e283",
            "1c25e12bc808484080630f3ffbf859c5",
            "a40ecafe7c604e358e1f670c6b3eef17",
            "37756a3308a44f748b95f73656ffbbb5",
            "ef6dacbb66f046a0b925c0302bd3da2a",
            "d65b14dba09f438a88005d8995224863",
            "99af93eeb3a64f8cb0792a869ef475ab"
          ]
        },
        "id": "1d78fc4a",
        "outputId": "0279c321-4038-42cc-b525-092747cbb199"
      },
      "outputs": [
        {
          "data": {
            "application/vnd.jupyter.widget-view+json": {
              "model_id": "a46d016c9c6a44ea913e8e35b7ab3a44",
              "version_major": 2,
              "version_minor": 0
            },
            "text/plain": [
              "Downloading builder script: 0.00B [00:00, ?B/s]"
            ]
          },
          "metadata": {},
          "output_type": "display_data"
        },
        {
          "data": {
            "application/vnd.jupyter.widget-view+json": {
              "model_id": "8311f120b3ca4623bb2cb2c549e93113",
              "version_major": 2,
              "version_minor": 0
            },
            "text/plain": [
              "Downloading builder script: 0.00B [00:00, ?B/s]"
            ]
          },
          "metadata": {},
          "output_type": "display_data"
        },
        {
          "name": "stdout",
          "output_type": "stream",
          "text": [
            "1.wav: WER=0.231 CER=0.063 RTF=0.252\n",
            "2.wav: WER=0.467 CER=0.344 RTF=0.109\n",
            "3.wav: WER=0.214 CER=0.207 RTF=0.124\n",
            "4.wav: WER=0.231 CER=0.034 RTF=0.141\n",
            "5.wav: WER=0.312 CER=0.064 RTF=0.111\n",
            "6.wav: WER=0.615 CER=0.311 RTF=0.137\n",
            "7.wav: WER=0.200 CER=0.075 RTF=0.148\n",
            "8.wav: WER=0.357 CER=0.138 RTF=0.197\n",
            "9.wav: WER=0.312 CER=0.070 RTF=0.265\n",
            "10.wav: WER=0.143 CER=0.064 RTF=0.231\n",
            "\n",
            "Среднее по метрикам:\n",
            "Средний WER = 0.308\n",
            "Средний CER = 0.137\n",
            "Средний RTF = 0.171\n"
          ]
        }
      ],
      "source": [
        "wers = []\n",
        "cers = []\n",
        "rtfs = []\n",
        "\n",
        "wer_metric = load(\"wer\")\n",
        "cer_metric = load(\"cer\")\n",
        "for i in range(1, 11):\n",
        "    with open(f'/content/drive/MyDrive/dataset/{i}.txt', 'r', encoding='utf8') as f:\n",
        "        reference = f.read().strip()\n",
        "    prediction = result[i]['transcript']\n",
        "\n",
        "    wer = wer_metric.compute(references=[reference], predictions=[prediction])\n",
        "    cer = cer_metric.compute(references=[reference], predictions=[prediction])\n",
        "    rtf = result[i]['rtf']\n",
        "\n",
        "    wers.append(wer)\n",
        "    cers.append(cer)\n",
        "    rtfs.append(rtf)\n",
        "\n",
        "    print(f\"{i}.wav: WER={wer:.3f} CER={cer:.3f} RTF={rtf:.3f}\")\n",
        "\n",
        "print(f\"\\nСреднее по метрикам:\")\n",
        "print(f\"Средний WER = {sum(wers) / len(wers):.3f}\")\n",
        "print(f\"Средний CER = {sum(cers) / len(cers):.3f}\")\n",
        "print(f\"Средний RTF = {sum(rtfs) / len(rtfs):.3f}\")\n"
      ]
    },
    {
      "cell_type": "markdown",
      "id": "f3d7ada9",
      "metadata": {
        "id": "f3d7ada9"
      },
      "source": [
        "# Whisper с контекстом (medium)"
      ]
    },
    {
      "cell_type": "code",
      "execution_count": null,
      "id": "f055d0a4",
      "metadata": {
        "colab": {
          "base_uri": "https://localhost:8080/"
        },
        "id": "f055d0a4",
        "outputId": "e2fa0ec3-606c-4c3f-8da5-3d5e585f98cb"
      },
      "outputs": [
        {
          "name": "stdout",
          "output_type": "stream",
          "text": [
            "1.wav: RTF=0.157  |  Транскрипция: пилот Макса Ферстапона завоевал полупозицию в квалификации Монако, показав лучшее время в Ку-3.\n",
            "2.wav: RTF=0.201  |  Транскрипция: команды Red Bull применила undercut, чтобы обогнать Ferrari на pit stop и выйти в лидеры гонки.\n",
            "3.wav: RTF=0.157  |  Транскрипция: Валиты Mercedes демонстрируют отличный баланс тормозов на трассе Silverstone, что помогает в быстрых поворотах.\n",
            "4.wav: RTF=0.167  |  Транскрипция: Льюис Хэмильтон лидировал весь гран-при, завоевав большой шлем с лучшим кругом и победой.\n",
            "5.wav: RTF=0.114  |  Транскрипция: в спринтрейсе пилоты ХАС столкнулись с ДРС зоной, но не смогли активировать систему из-за разницы в скорости.\n",
            "6.wav: RTF=0.132  |  Транскрипция: шарликлер прошел апекс в повороте гурбопараболика идеально, минимизируя временно круги.\n",
            "7.wav: RTF=0.149  |  Транскрипция: Команда Альпин выбрала стратегию с двумя бит-стопами на медиум-шинах, чтобы избежать износа в жаркую погоду.\n",
            "8.wav: RTF=0.139  |  Транскрипция: Серхио Перес получил штраф за виртуальный сейфти кар, нарушив лимит трассы на выходе из боксов.\n",
            "9.wav: RTF=0.122  |  Транскрипция: в квалификации Q1 гонщик Вильямс не уложился в 107% от Поула и был исключен из старта.\n",
            "10.wav: RTF=0.122  |  Транскрипция: конструкторы Ferrari обновили аэродинамику болида, увеличив прижимную силу для лучшей управляемости в высокоскоростных секциях.\n"
          ]
        }
      ],
      "source": [
        "model_size = \"medium\"\n",
        "model = WhisperModel(model_size, device=\"cuda\")\n",
        "\n",
        "\n",
        "initial_prompt = \"Это аудиозапись на тематику Формулы 1. Здесь обсуждаются гонщики, \"\n",
        "\"команды, гоночные стратегии. Транскрибировать спортивное аудио по Формуле-1.\"\n",
        "\"Основные термины: Ред Булл, Феррари, Ку-3, пит-стоп, андеркат, болид, квалификация, стратегия, трасса, апекс, медиа-шины,\n",
        "\"большой шлем, ДРС-зона, виртуальный сейфти-кар, прижимная сила, аэродинамика Все названия на русском языке .\"\n",
        "\n",
        "result = {}\n",
        "for i in range(1, 11):\n",
        "    wav_path = f'/content/drive/MyDrive/dataset/{i}.wav'\n",
        "\n",
        "    start = time.time()\n",
        "    segments, info = model.transcribe(wav_path, beam_size=5, initial_prompt=initial_prompt)\n",
        "    segments = list(segments)\n",
        "    dur_infer = time.time() - start\n",
        "\n",
        "    transcript = \" \".join([seg.text.strip() for seg in segments])\n",
        "    audio_dur = sum([seg.end - seg.start for seg in segments])\n",
        "    rtf = dur_infer / audio_dur if audio_dur > 0 else 0\n",
        "\n",
        "    result[i] = {\n",
        "        \"transcript\": transcript,\n",
        "        \"rtf\": rtf\n",
        "    }\n",
        "\n",
        "    with open(f'{i}_whisper_with_prompt.txt', 'w', encoding='utf8') as f:\n",
        "        f.write(transcript)\n",
        "\n",
        "    print(f\"{i}.wav: RTF={rtf:.3f}  |  Транскрипция: {transcript}\")\n"
      ]
    },
    {
      "cell_type": "code",
      "execution_count": null,
      "id": "555c87ca",
      "metadata": {
        "colab": {
          "base_uri": "https://localhost:8080/"
        },
        "id": "555c87ca",
        "outputId": "79e1d00d-4d6e-451b-e56e-43f9195567ed"
      },
      "outputs": [
        {
          "name": "stdout",
          "output_type": "stream",
          "text": [
            "1.wav: WER=0.308 CER=0.074 RTF=0.157\n",
            "2.wav: WER=0.533 CER=0.366 RTF=0.201\n",
            "3.wav: WER=0.286 CER=0.216 RTF=0.157\n",
            "4.wav: WER=0.231 CER=0.034 RTF=0.167\n",
            "5.wav: WER=0.375 CER=0.073 RTF=0.114\n",
            "6.wav: WER=0.538 CER=0.167 RTF=0.132\n",
            "7.wav: WER=0.133 CER=0.019 RTF=0.149\n",
            "8.wav: WER=0.214 CER=0.021 RTF=0.139\n",
            "9.wav: WER=0.375 CER=0.093 RTF=0.122\n",
            "10.wav: WER=0.214 CER=0.072 RTF=0.122\n",
            "\n",
            "Среднее по метрикам:\n",
            "Средний WER = 0.321\n",
            "Средний CER = 0.113\n",
            "Средний RTF = 0.122\n"
          ]
        }
      ],
      "source": [
        "wers = []\n",
        "cers = []\n",
        "rtfs = []\n",
        "wer_metric = load(\"wer\")\n",
        "cer_metric = load(\"cer\")\n",
        "\n",
        "for i in range(1, 11):\n",
        "    with open(f'/content/drive/MyDrive/dataset/{i}.txt') as f:\n",
        "        reference = f.read().strip()\n",
        "    prediction = result[i]['transcript']\n",
        "\n",
        "    wer = wer_metric.compute(references=[reference], predictions=[prediction])\n",
        "    cer = cer_metric.compute(references=[reference], predictions=[prediction])\n",
        "\n",
        "    wers.append(wer)\n",
        "    cers.append(cer)\n",
        "    rtfs.append(rtf)\n",
        "\n",
        "    print(f\"{i}.wav: WER={wer:.3f} CER={cer:.3f} RTF={result[i]['rtf']:.3f}\")\n",
        "\n",
        "print(f\"\\nСреднее по метрикам:\")\n",
        "print(f\"Средний WER = {sum(wers) / len(wers):.3f}\")\n",
        "print(f\"Средний CER = {sum(cers) / len(cers):.3f}\")\n",
        "print(f\"Средний RTF = {sum(rtfs) / len(rtfs):.3f}\")\n"
      ]
    },
    {
      "cell_type": "markdown",
      "id": "697c91b6",
      "metadata": {
        "id": "697c91b6"
      },
      "source": [
        "# Whisper без контекста (large)"
      ]
    },
    {
      "cell_type": "code",
      "execution_count": null,
      "id": "58c293ac",
      "metadata": {
        "colab": {
          "base_uri": "https://localhost:8080/"
        },
        "id": "58c293ac",
        "outputId": "15f93c44-fa9f-4172-9a49-0d70f7272a58"
      },
      "outputs": [
        {
          "name": "stdout",
          "output_type": "stream",
          "text": [
            "1.wav: RTF=0.274  |  Транскрипция: Пилот Макса Верстапена завоевал полу-позицию в квалификации Монако, показав лучшее время в Ку-3.\n",
            "2.wav: RTF=0.183  |  Транскрипция: Команда Red Bull применила андеркат, чтобы обогнать Феррари на питстопе и выйти в лидеры гонки.\n",
            "3.wav: RTF=0.188  |  Транскрипция: Болиды Mercedes демонстрируют отличный баланс тормозов на трассе Silverstone, что помогает в быстрых поворотах.\n",
            "4.wav: RTF=0.213  |  Транскрипция: Льюис Хэмилтон лидировал весь гран-при, завоевав большой шлем с лучшим кругом и победой.\n",
            "5.wav: RTF=0.165  |  Транскрипция: В спринтрейсе пилоты ХАС столкнулись с ДРС-зоной, но не смогли активировать систему из-за разницы в скорости.\n",
            "6.wav: RTF=0.184  |  Транскрипция: Шарль Леклер прошел апекс в повороте курва параболика идеально, минимизируя время на круге.\n",
            "7.wav: RTF=0.213  |  Транскрипция: Команда Альпин выбрала стратегию с двумя питстопами на медиум шинах, чтобы избежать износа в жаркую погоду.\n",
            "8.wav: RTF=0.215  |  Транскрипция: Серхио Перес получил штраф за виртуальный сейфти-кар, нарушив лимит трассы на выходе из боксов.\n",
            "9.wav: RTF=0.179  |  Транскрипция: В квалификации Q1 гонщик Вильямс не уложился в 107% от Поула и был исключен из старта.\n",
            "10.wav: RTF=0.175  |  Транскрипция: Конструкторы Ferrari обновили аэродинамику болида, увеличив прижимную силу для лучшей управляемости в высокоскоростных секциях.\n"
          ]
        }
      ],
      "source": [
        "from faster_whisper import WhisperModel\n",
        "import time\n",
        "import os\n",
        "from evaluate import load\n",
        "\n",
        "model_size = \"large\"\n",
        "model = WhisperModel(model_size, device=\"cuda\")\n",
        "\n",
        "result = {}\n",
        "for i in range(1, 11):\n",
        "    wav_path = f'/content/drive/MyDrive/dataset/{i}.wav'\n",
        "    start = time.time()\n",
        "    segments, info = model.transcribe(wav_path, beam_size=5)\n",
        "    segments = list(segments)\n",
        "    dur_infer = time.time() - start\n",
        "\n",
        "    transcript = \" \".join([seg.text.strip() for seg in segments])\n",
        "    audio_dur = sum([seg.end - seg.start for seg in segments])\n",
        "    rtf = dur_infer / audio_dur if audio_dur > 0 else 0\n",
        "\n",
        "    result[i] = {\n",
        "        \"transcript\": transcript,\n",
        "        \"rtf\": rtf\n",
        "    }\n",
        "    with open(f'{i}_whisper_small.txt', 'w', encoding='utf8') as f:\n",
        "        f.write(transcript)\n",
        "\n",
        "    print(f\"{i}.wav: RTF={rtf:.3f}  |  Транскрипция: {transcript}\")\n",
        "\n"
      ]
    },
    {
      "cell_type": "code",
      "execution_count": null,
      "id": "70f46c37",
      "metadata": {
        "colab": {
          "base_uri": "https://localhost:8080/"
        },
        "id": "70f46c37",
        "outputId": "e05cb609-bee8-446f-91df-a7baa587ebfb"
      },
      "outputs": [
        {
          "name": "stdout",
          "output_type": "stream",
          "text": [
            "1.wav: WER=0.231 CER=0.063 RTF=0.274\n",
            "2.wav: WER=0.333 CER=0.108 RTF=0.183\n",
            "3.wav: WER=0.214 CER=0.189 RTF=0.188\n",
            "4.wav: WER=0.154 CER=0.023 RTF=0.213\n",
            "5.wav: WER=0.188 CER=0.055 RTF=0.165\n",
            "6.wav: WER=0.231 CER=0.033 RTF=0.184\n",
            "7.wav: WER=0.267 CER=0.028 RTF=0.213\n",
            "8.wav: WER=0.071 CER=0.011 RTF=0.215\n",
            "9.wav: WER=0.312 CER=0.081 RTF=0.179\n",
            "10.wav: WER=0.143 CER=0.064 RTF=0.175\n",
            "\n",
            "Среднее по метрикам:\n",
            "Средний WER = 0.214\n",
            "Средний CER = 0.065\n",
            "Средний RTF = 0.199\n"
          ]
        }
      ],
      "source": [
        "wers = []\n",
        "cers = []\n",
        "rtfs = []\n",
        "\n",
        "for i in range(1, 11):\n",
        "    with open(f'/content/drive/MyDrive/dataset/{i}.txt', 'r', encoding='utf8') as f:\n",
        "        reference = f.read().strip()\n",
        "    prediction = result[i]['transcript']\n",
        "\n",
        "    wer = wer_metric.compute(references=[reference], predictions=[prediction])\n",
        "    cer = cer_metric.compute(references=[reference], predictions=[prediction])\n",
        "    rtf = result[i]['rtf']\n",
        "\n",
        "    wers.append(wer)\n",
        "    cers.append(cer)\n",
        "    rtfs.append(rtf)\n",
        "\n",
        "    print(f\"{i}.wav: WER={wer:.3f} CER={cer:.3f} RTF={rtf:.3f}\")\n",
        "\n",
        "print(f\"\\nСреднее по метрикам:\")\n",
        "print(f\"Средний WER = {sum(wers) / len(wers):.3f}\")\n",
        "print(f\"Средний CER = {sum(cers) / len(cers):.3f}\")\n",
        "print(f\"Средний RTF = {sum(rtfs) / len(rtfs):.3f}\")\n"
      ]
    },
    {
      "cell_type": "markdown",
      "id": "924eb596",
      "metadata": {
        "id": "924eb596"
      },
      "source": [
        "# Whisper с контекстом (large)"
      ]
    },
    {
      "cell_type": "code",
      "execution_count": null,
      "id": "24f4d949",
      "metadata": {
        "colab": {
          "base_uri": "https://localhost:8080/"
        },
        "id": "24f4d949",
        "outputId": "e0300692-ad12-4d42-92b3-0cd4c6cdd548"
      },
      "outputs": [
        {
          "name": "stdout",
          "output_type": "stream",
          "text": [
            "1.wav: RTF=0.217  |  Транскрипция: пилот Макса Верстапена завоевал полу-позицию в квалификации Монако, показав лучшее время в Ку-3.\n",
            "2.wav: RTF=0.186  |  Транскрипция: Команда Red Bull применила андеркат, чтобы обогнать Феррари на питстопе и выйти в лидеры гонки.\n",
            "3.wav: RTF=0.197  |  Транскрипция: Болиды Mercedes демонстрируют отличный баланс тормозов на трассе Silverstone, что помогает в быстрых поворотах.\n",
            "4.wav: RTF=0.234  |  Транскрипция: Льюис Хэмилтон лидировал весь гран-при, завоевав большой шлем с лучшим кругом и победой.\n",
            "5.wav: RTF=0.178  |  Транскрипция: В спринтрейсе пилоты ХАС столкнулись с ДРС-зоной, но не смогли активировать систему из-за разницы в скорости.\n",
            "6.wav: RTF=0.183  |  Транскрипция: Шарль Леклер прошел апекс в повороте курва параболика, идеально, минимизируя время на круге.\n",
            "7.wav: RTF=0.208  |  Транскрипция: Команда Альпин выбрала стратегию с двумя питстопами на медиум шинах, чтобы избежать износа в жаркую погоду.\n",
            "8.wav: RTF=0.196  |  Транскрипция: Серхио Перес получил штраф за виртуальный сейфти-кар, нарушив лимит трассы на выходе из боксов.\n",
            "9.wav: RTF=0.172  |  Транскрипция: В квалификации Q1 гонщик Вильямс не уложился в 107% от Поула и был исключен из старта.\n",
            "10.wav: RTF=0.177  |  Транскрипция: Конструкторы Ferrari обновили аэродинамику болида, увеличив прижимную силу для лучшей управляемости в высокоскоростных секциях.\n"
          ]
        }
      ],
      "source": [
        "model_size = \"large\"\n",
        "model = WhisperModel(model_size, device=\"cuda\")\n",
        "\n",
        "initial_prompt = \"Это аудиозапись на тематику Формулы 1. Здесь обсуждаются гонщики, \"\n",
        "\"команды, гоночные стратегии. Транскрибировать спортивное аудио по Формуле-1.\"\n",
        "\"Основные термины: Ред Булл, Феррари, Ку-3, пит-стоп, андеркат, болид, квалификация, стратегия, трасса, апекс, медиа-шины,\n",
        "\"большой шлем, ДРС-зона, виртуальный сейфти-кар, прижимная сила, аэродинамика Все названия на русском языке .\"\n",
        "\n",
        "result = {}\n",
        "for i in range(1, 11):\n",
        "    wav_path = f'/content/drive/MyDrive/dataset/{i}.wav'\n",
        "\n",
        "    start = time.time()\n",
        "    segments, info = model.transcribe(wav_path, beam_size=5, initial_prompt=initial_prompt)\n",
        "    segments = list(segments)\n",
        "    dur_infer = time.time() - start\n",
        "\n",
        "    transcript = \" \".join([seg.text.strip() for seg in segments])\n",
        "    audio_dur = sum([seg.end - seg.start for seg in segments])\n",
        "    rtf = dur_infer / audio_dur if audio_dur > 0 else 0\n",
        "\n",
        "    result[i] = {\n",
        "        \"transcript\": transcript,\n",
        "        \"rtf\": rtf\n",
        "    }\n",
        "\n",
        "    with open(f'{i}_whisper_with_prompt_small.txt', 'w', encoding='utf8') as f:\n",
        "        f.write(transcript)\n",
        "\n",
        "    print(f\"{i}.wav: RTF={rtf:.3f}  |  Транскрипция: {transcript}\")"
      ]
    },
    {
      "cell_type": "code",
      "execution_count": null,
      "id": "c9528286",
      "metadata": {
        "colab": {
          "base_uri": "https://localhost:8080/"
        },
        "id": "c9528286",
        "outputId": "008bd480-a34f-4d86-96d6-c0eeea397338"
      },
      "outputs": [
        {
          "name": "stdout",
          "output_type": "stream",
          "text": [
            "1.wav: WER=0.308 CER=0.074 RTF=0.217\n",
            "2.wav: WER=0.333 CER=0.108 RTF=0.186\n",
            "3.wav: WER=0.214 CER=0.189 RTF=0.197\n",
            "4.wav: WER=0.154 CER=0.023 RTF=0.234\n",
            "5.wav: WER=0.188 CER=0.055 RTF=0.178\n",
            "6.wav: WER=0.231 CER=0.044 RTF=0.183\n",
            "7.wav: WER=0.267 CER=0.028 RTF=0.208\n",
            "8.wav: WER=0.071 CER=0.011 RTF=0.196\n",
            "9.wav: WER=0.312 CER=0.081 RTF=0.172\n",
            "10.wav: WER=0.143 CER=0.064 RTF=0.177\n",
            "\n",
            "Среднее по метрикам:\n",
            "Средний WER = 0.222\n",
            "Средний CER = 0.068\n",
            "Средний RTF = 0.195\n"
          ]
        }
      ],
      "source": [
        "wers = []\n",
        "cers = []\n",
        "rtfs = []\n",
        "\n",
        "for i in range(1, 11):\n",
        "    with open(f'/content/drive/MyDrive/dataset/{i}.txt', 'r', encoding='utf8') as f:\n",
        "        reference = f.read().strip()\n",
        "    prediction = result[i]['transcript']\n",
        "\n",
        "    wer = wer_metric.compute(references=[reference], predictions=[prediction])\n",
        "    cer = cer_metric.compute(references=[reference], predictions=[prediction])\n",
        "    rtf = result[i]['rtf']\n",
        "\n",
        "    wers.append(wer)\n",
        "    cers.append(cer)\n",
        "    rtfs.append(rtf)\n",
        "\n",
        "    print(f\"{i}.wav: WER={wer:.3f} CER={cer:.3f} RTF={rtf:.3f}\")\n",
        "\n",
        "print(f\"\\nСреднее по метрикам:\")\n",
        "print(f\"Средний WER = {sum(wers) / len(wers):.3f}\")\n",
        "print(f\"Средний CER = {sum(cers) / len(cers):.3f}\")\n",
        "print(f\"Средний RTF = {sum(rtfs) / len(rtfs):.3f}\")\n"
      ]
    },
    {
      "cell_type": "markdown",
      "id": "6cf8d737",
      "metadata": {
        "id": "6cf8d737"
      },
      "source": [
        "# Vosk"
      ]
    },
    {
      "cell_type": "code",
      "execution_count": null,
      "id": "r0TCJRPtJ9mL",
      "metadata": {
        "colab": {
          "base_uri": "https://localhost:8080/"
        },
        "id": "r0TCJRPtJ9mL",
        "outputId": "14b7507d-e155-4d17-92f6-94ddd372afb3"
      },
      "outputs": [
        {
          "name": "stdout",
          "output_type": "stream",
          "text": [
            "--2025-10-19 21:31:09--  https://alphacephei.com/vosk/models/vosk-model-small-ru-0.22.zip\n",
            "Resolving alphacephei.com (alphacephei.com)... 188.40.21.16, 2a01:4f8:13a:279f::2\n",
            "Connecting to alphacephei.com (alphacephei.com)|188.40.21.16|:443... connected.\n",
            "HTTP request sent, awaiting response... 200 OK\n",
            "Length: 46236750 (44M) [application/zip]\n",
            "Saving to: ‘vosk-model-small-ru-0.22.zip’\n",
            "\n",
            "vosk-model-small-ru 100%[===================>]  44.09M  14.5MB/s    in 3.2s    \n",
            "\n",
            "2025-10-19 21:31:13 (13.9 MB/s) - ‘vosk-model-small-ru-0.22.zip’ saved [46236750/46236750]\n",
            "\n",
            "Archive:  /content/vosk-model-small-ru-0.22.zip\n",
            "   creating: vosk-model-small-ru-0.22/\n",
            "   creating: vosk-model-small-ru-0.22/graph/\n",
            "   creating: vosk-model-small-ru-0.22/graph/phones/\n",
            "  inflating: vosk-model-small-ru-0.22/graph/phones/word_boundary.int  \n",
            "  inflating: vosk-model-small-ru-0.22/graph/Gr.fst  \n",
            "  inflating: vosk-model-small-ru-0.22/graph/HCLr.fst  \n",
            "  inflating: vosk-model-small-ru-0.22/graph/disambig_tid.int  \n",
            "   creating: vosk-model-small-ru-0.22/am/\n",
            "  inflating: vosk-model-small-ru-0.22/am/final.mdl  \n",
            "  inflating: vosk-model-small-ru-0.22/README  \n",
            "   creating: vosk-model-small-ru-0.22/conf/\n",
            "  inflating: vosk-model-small-ru-0.22/conf/model.conf  \n",
            "  inflating: vosk-model-small-ru-0.22/conf/mfcc.conf  \n",
            "   creating: vosk-model-small-ru-0.22/ivector/\n",
            "  inflating: vosk-model-small-ru-0.22/ivector/final.dubm  \n",
            "  inflating: vosk-model-small-ru-0.22/ivector/global_cmvn.stats  \n",
            "  inflating: vosk-model-small-ru-0.22/ivector/final.ie  \n",
            "  inflating: vosk-model-small-ru-0.22/ivector/final.mat  \n",
            "  inflating: vosk-model-small-ru-0.22/ivector/splice.conf  \n",
            "  inflating: vosk-model-small-ru-0.22/ivector/online_cmvn.conf  \n"
          ]
        }
      ],
      "source": [
        "!wget https://alphacephei.com/vosk/models/vosk-model-small-ru-0.22.zip\n",
        "!unzip /content/vosk-model-small-ru-0.22.zip"
      ]
    },
    {
      "cell_type": "code",
      "execution_count": null,
      "id": "48db24c8",
      "metadata": {
        "colab": {
          "base_uri": "https://localhost:8080/"
        },
        "id": "48db24c8",
        "outputId": "7f91ac1d-3170-4689-dc41-4e88398661cb"
      },
      "outputs": [
        {
          "name": "stdout",
          "output_type": "stream",
          "text": [
            "1.wav: RTF=0.210  |  Транскрипция: пилот макса перста по на завоевал поул позицию в квалификации монако показав лучшее время вку три\n",
            "2.wav: RTF=0.148  |  Транскрипция: команда ред булл применила андер кат чтобы обогнать феррари на пит стоп и и выйти в лидеры гонки\n",
            "3.wav: RTF=0.168  |  Транскрипция: болиды мерседес демонстрирует отличный баланс тормозов на трассе сильверстоун что помогает быстрых поворотах\n",
            "4.wav: RTF=0.162  |  Транскрипция: льюис хэмилтон лидировал без гран при завоевав большой шлем с лучшим кругом и победой\n",
            "5.wav: RTF=0.129  |  Транскрипция: с принят трейси пилоты и хаос столкнулись с зоной но не смогли активировать систему из-за разницы в скорости\n",
            "6.wav: RTF=0.144  |  Транскрипция: а шара для клер прошёл апекс повороте курва пора борька идеально минимизирует временно круге\n",
            "7.wav: RTF=0.139  |  Транскрипция: команда альбин выбрала стратегию с двумя питт стопами на медиум шинах чтобы избежать износом жаркую погоду\n",
            "8.wav: RTF=0.144  |  Транскрипция: серхио перес получил штраф за виртуальный со идти кар нарушив лимит трассы на выходе из боксов\n",
            "9.wav: RTF=0.174  |  Транскрипция: в квалификацией куб один гонщик вильямс не уложился в сто семь процентов от пола и был исключён из старта\n",
            "10.wav: RTF=0.213  |  Транскрипция: конструктора феррари обновили аэродинамику болида увеличив прижимной силы для лучшей управляемости высокоскоростных секциях\n"
          ]
        }
      ],
      "source": [
        "import os\n",
        "import time\n",
        "from vosk import Model, KaldiRecognizer\n",
        "import wave\n",
        "\n",
        "\n",
        "model = Model(model_path=r\"/content/vosk-model-small-ru-0.22\")\n",
        "\n",
        "result = {}\n",
        "\n",
        "wer_metric = load(\"wer\")\n",
        "cer_metric = load(\"cer\")\n",
        "\n",
        "for i in range(1, 11):\n",
        "    wav_path = f'/content/drive/MyDrive/dataset/{i}.wav'\n",
        "    wf = wave.open(wav_path, \"rb\")\n",
        "\n",
        "    rec = KaldiRecognizer(model, wf.getframerate())\n",
        "    rec.SetWords(True)\n",
        "\n",
        "    start = time.time()\n",
        "\n",
        "    transcript = \"\"\n",
        "    while True:\n",
        "        data = wf.readframes(4000)\n",
        "        if len(data) == 0:\n",
        "            break\n",
        "        if rec.AcceptWaveform(data):\n",
        "            res = rec.Result()\n",
        "            # Можно распарсить JSON, но берем текст просто\n",
        "            import json\n",
        "            jres = json.loads(res)\n",
        "            transcript += \" \" + jres.get(\"text\", \"\")\n",
        "\n",
        "    transcript += \" \" + json.loads(rec.FinalResult()).get(\"text\", \"\")\n",
        "\n",
        "    dur_infer = time.time() - start\n",
        "    audio_dur = wf.getnframes() / wf.getframerate()\n",
        "    rtf = dur_infer / audio_dur if audio_dur > 0 else 0\n",
        "\n",
        "    result[i] = {\"transcript\": transcript.strip(), \"rtf\": rtf}\n",
        "    with open(f'{i}_vosk.txt', 'w', encoding='utf8') as f:\n",
        "        f.write(transcript)\n",
        "\n",
        "    print(f\"{i}.wav: RTF={rtf:.3f}  |  Транскрипция: {transcript.strip()}\")\n"
      ]
    },
    {
      "cell_type": "code",
      "execution_count": null,
      "id": "5c853d5d",
      "metadata": {
        "colab": {
          "base_uri": "https://localhost:8080/"
        },
        "id": "5c853d5d",
        "outputId": "a8d5ca02-2cc2-4898-8d2b-bd0928e98ece"
      },
      "outputs": [
        {
          "name": "stdout",
          "output_type": "stream",
          "text": [
            "1.wav: WER=0.769 CER=0.147 RTF=0.210\n",
            "2.wav: WER=0.600 CER=0.108 RTF=0.148\n",
            "3.wav: WER=0.357 CER=0.063 RTF=0.168\n",
            "4.wav: WER=0.385 CER=0.092 RTF=0.162\n",
            "5.wav: WER=0.375 CER=0.127 RTF=0.129\n",
            "6.wav: WER=0.923 CER=0.267 RTF=0.144\n",
            "7.wav: WER=0.533 CER=0.093 RTF=0.139\n",
            "8.wav: WER=0.357 CER=0.085 RTF=0.144\n",
            "9.wav: WER=0.562 CER=0.372 RTF=0.174\n",
            "10.wav: WER=0.429 CER=0.080 RTF=0.213\n",
            "\n",
            "Среднее по метрикам:\n",
            "Средний WER = 0.529\n",
            "Средний CER = 0.143\n",
            "Средний RTF = 0.163\n"
          ]
        }
      ],
      "source": [
        "# Оценка WER, CER\n",
        "wers = []\n",
        "cers = []\n",
        "rtfs = []\n",
        "\n",
        "for i in range(1, 11):\n",
        "    with open(f'/content/drive/MyDrive/dataset/{i}.txt', 'r', encoding='utf8') as f:\n",
        "        reference = f.read().strip()\n",
        "\n",
        "    prediction = result[i]['transcript']\n",
        "\n",
        "    wer = wer_metric.compute(references=[reference], predictions=[prediction])\n",
        "    cer = cer_metric.compute(references=[reference], predictions=[prediction])\n",
        "    rtf = result[i]['rtf']\n",
        "\n",
        "    wers.append(wer)\n",
        "    cers.append(cer)\n",
        "    rtfs.append(rtf)\n",
        "\n",
        "    print(f\"{i}.wav: WER={wer:.3f} CER={cer:.3f} RTF={rtf:.3f}\")\n",
        "\n",
        "print(f\"\\nСреднее по метрикам:\")\n",
        "print(f\"Средний WER = {sum(wers) / len(wers):.3f}\")\n",
        "print(f\"Средний CER = {sum(cers) / len(cers):.3f}\")\n",
        "print(f\"Средний RTF = {sum(rtfs) / len(rtfs):.3f}\")\n"
      ]
    },
    {
      "cell_type": "markdown",
      "id": "ae5fc5bb",
      "metadata": {
        "id": "ae5fc5bb"
      },
      "source": [
        "# Giga AM"
      ]
    },
    {
      "cell_type": "code",
      "execution_count": null,
      "id": "d6affc05",
      "metadata": {
        "colab": {
          "base_uri": "https://localhost:8080/"
        },
        "id": "d6affc05",
        "outputId": "ceb2580d-3af4-4aa2-eeee-4c966f8a22b6"
      },
      "outputs": [
        {
          "name": "stderr",
          "output_type": "stream",
          "text": [
            "/usr/local/lib/python3.12/dist-packages/gigaam/__init__.py:118: FutureWarning: You are using `torch.load` with `weights_only=False` (the current default value), which uses the default pickle module implicitly. It is possible to construct malicious pickle data which will execute arbitrary code during unpickling (See https://github.com/pytorch/pytorch/blob/main/SECURITY.md#untrusted-models for more details). In a future release, the default value for `weights_only` will be flipped to `True`. This limits the functions that could be executed during unpickling. Arbitrary objects will no longer be allowed to be loaded via this mode unless they are explicitly allowlisted by the user via `torch.serialization.add_safe_globals`. We recommend you start setting `weights_only=True` for any use case where you don't have full control of the loaded file. Please open an issue on GitHub for any issues related to this experimental feature.\n",
            "  checkpoint = torch.load(model_path, map_location=\"cpu\")\n"
          ]
        },
        {
          "name": "stdout",
          "output_type": "stream",
          "text": [
            "GigaAMASR(\n",
            "  (preprocessor): FeatureExtractor(\n",
            "    (featurizer): Sequential(\n",
            "      (0): MelSpectrogram(\n",
            "        (spectrogram): Spectrogram()\n",
            "        (mel_scale): MelScale()\n",
            "      )\n",
            "      (1): SpecScaler()\n",
            "    )\n",
            "  )\n",
            "  (encoder): ConformerEncoder(\n",
            "    (pre_encode): StridingSubsampling(\n",
            "      (out): Linear(in_features=12288, out_features=768, bias=True)\n",
            "      (conv): Sequential(\n",
            "        (0): Conv2d(1, 768, kernel_size=(3, 3), stride=(2, 2), padding=(1, 1))\n",
            "        (1): ReLU()\n",
            "        (2): Conv2d(768, 768, kernel_size=(3, 3), stride=(2, 2), padding=(1, 1))\n",
            "        (3): ReLU()\n",
            "      )\n",
            "    )\n",
            "    (pos_enc): RotaryPositionalEmbedding()\n",
            "    (layers): ModuleList(\n",
            "      (0-15): 16 x ConformerLayer(\n",
            "        (norm_feed_forward1): LayerNorm((768,), eps=1e-05, elementwise_affine=True)\n",
            "        (feed_forward1): ConformerFeedForward(\n",
            "          (linear1): Linear(in_features=768, out_features=3072, bias=True)\n",
            "          (activation): SiLU()\n",
            "          (linear2): Linear(in_features=3072, out_features=768, bias=True)\n",
            "        )\n",
            "        (norm_conv): LayerNorm((768,), eps=1e-05, elementwise_affine=True)\n",
            "        (conv): ConformerConvolution(\n",
            "          (pointwise_conv1): Conv1d(768, 1536, kernel_size=(1,), stride=(1,))\n",
            "          (depthwise_conv): Conv1d(768, 768, kernel_size=(31,), stride=(1,), padding=(15,), groups=768)\n",
            "          (batch_norm): BatchNorm1d(768, eps=1e-05, momentum=0.1, affine=True, track_running_stats=True)\n",
            "          (activation): SiLU()\n",
            "          (pointwise_conv2): Conv1d(768, 768, kernel_size=(1,), stride=(1,))\n",
            "        )\n",
            "        (norm_self_att): LayerNorm((768,), eps=1e-05, elementwise_affine=True)\n",
            "        (self_attn): RotaryPositionMultiHeadAttention(\n",
            "          (linear_q): Linear(in_features=768, out_features=768, bias=True)\n",
            "          (linear_k): Linear(in_features=768, out_features=768, bias=True)\n",
            "          (linear_v): Linear(in_features=768, out_features=768, bias=True)\n",
            "          (linear_out): Linear(in_features=768, out_features=768, bias=True)\n",
            "        )\n",
            "        (norm_feed_forward2): LayerNorm((768,), eps=1e-05, elementwise_affine=True)\n",
            "        (feed_forward2): ConformerFeedForward(\n",
            "          (linear1): Linear(in_features=768, out_features=3072, bias=True)\n",
            "          (activation): SiLU()\n",
            "          (linear2): Linear(in_features=3072, out_features=768, bias=True)\n",
            "        )\n",
            "        (norm_out): LayerNorm((768,), eps=1e-05, elementwise_affine=True)\n",
            "      )\n",
            "    )\n",
            "  )\n",
            "  (head): RNNTHead(\n",
            "    (decoder): RNNTDecoder(\n",
            "      (embed): Embedding(34, 320, padding_idx=33)\n",
            "      (lstm): LSTM(320, 320)\n",
            "    )\n",
            "    (joint): RNNTJoint(\n",
            "      (pred): Linear(in_features=320, out_features=320, bias=True)\n",
            "      (enc): Linear(in_features=768, out_features=320, bias=True)\n",
            "      (joint_net): Sequential(\n",
            "        (0): ReLU()\n",
            "        (1): Linear(in_features=320, out_features=34, bias=True)\n",
            "      )\n",
            "    )\n",
            "  )\n",
            ")\n"
          ]
        }
      ],
      "source": [
        "import gigaam\n",
        "model = gigaam.load_model(\"v2_rnnt\")\n",
        "print(model)\n"
      ]
    },
    {
      "cell_type": "code",
      "execution_count": null,
      "id": "yKpKYq8JeWrt",
      "metadata": {
        "colab": {
          "base_uri": "https://localhost:8080/"
        },
        "id": "yKpKYq8JeWrt",
        "outputId": "25f24c69-e801-4d91-d633-561dd48a1e0d"
      },
      "outputs": [
        {
          "name": "stderr",
          "output_type": "stream",
          "text": [
            "/usr/local/lib/python3.12/dist-packages/gigaam/__init__.py:118: FutureWarning: You are using `torch.load` with `weights_only=False` (the current default value), which uses the default pickle module implicitly. It is possible to construct malicious pickle data which will execute arbitrary code during unpickling (See https://github.com/pytorch/pytorch/blob/main/SECURITY.md#untrusted-models for more details). In a future release, the default value for `weights_only` will be flipped to `True`. This limits the functions that could be executed during unpickling. Arbitrary objects will no longer be allowed to be loaded via this mode unless they are explicitly allowlisted by the user via `torch.serialization.add_safe_globals`. We recommend you start setting `weights_only=True` for any use case where you don't have full control of the loaded file. Please open an issue on GitHub for any issues related to this experimental feature.\n",
            "  checkpoint = torch.load(model_path, map_location=\"cpu\")\n"
          ]
        },
        {
          "name": "stdout",
          "output_type": "stream",
          "text": [
            "1.wav: RTF=0.035  |  Транскрипция: пилот макса верстапона завоевал полупозицию в квалификации монако показав лучшее время в ку три\n",
            "2.wav: RTF=0.033  |  Транскрипция: команда ред бул применила андеркад чтобы обогнать феррари на пит стопе и выйти в лидеры гонки\n",
            "3.wav: RTF=0.035  |  Транскрипция: болиды мерседес демонстрируют отличный баланс тормозов на трассе сильверстоун что помогает в быстрых поворотах\n",
            "4.wav: RTF=0.038  |  Транскрипция: льюис хемильтон лидировал весь гран при завоевав большой шлем с лучшим кругом и победой\n",
            "5.wav: RTF=0.030  |  Транскрипция: в спринтрейсе пилоты хасс столкнулись с дрс зоной но не смогли активировать систему из за разницы в скорости\n",
            "6.wav: RTF=0.032  |  Транскрипция: шар ликлер прошел апекс в повороте курва параболика идеально минимизируй время на круге\n",
            "7.wav: RTF=0.033  |  Транскрипция: команда альпин выбрала стратегию с двумя питстопами на медиум шинах чтобы избежать износа в жаркую погоду\n",
            "8.wav: RTF=0.034  |  Транскрипция: серхио перес получил штраф за виртуальный сейфтикар нарушив лимит трассы на выходе из боксов\n",
            "9.wav: RTF=0.032  |  Транскрипция: в квалификации ку один гонщик вильямс не уложился в сто семь процентов от паула и был исключен из старта\n",
            "10.wav: RTF=0.032  |  Транскрипция: конструкторы феррари обновили аэродинамику болида увеличив прижимную силу для лучшей управляемости высокоскоростных секциях\n"
          ]
        }
      ],
      "source": [
        "import gigaam\n",
        "import time\n",
        "import os\n",
        "from evaluate import load\n",
        "\n",
        "model = gigaam.load_model('v2_rnnt')\n",
        "result = {}\n",
        "\n",
        "wer_metric = load(\"wer\")\n",
        "cer_metric = load(\"cer\")\n",
        "\n",
        "for i in range(1, 11):\n",
        "    wav_path = f'/content/drive/MyDrive/dataset/{i}.wav'\n",
        "    start = time.time()\n",
        "    transcript = model.transcribe(wav_path)  # метод транскрипции зависит от SDK\n",
        "    dur_infer = time.time() - start\n",
        "\n",
        "    # Чтобы получить длительность аудио, например с wave:\n",
        "    import wave\n",
        "    with wave.open(wav_path, 'rb') as wf:\n",
        "        audio_dur = wf.getnframes() / wf.getframerate()\n",
        "\n",
        "    rtf = dur_infer / audio_dur if audio_dur > 0 else 0\n",
        "\n",
        "    result[i] = {\"transcript\": transcript.strip(), \"rtf\": rtf}\n",
        "\n",
        "    # Сохраняем результат\n",
        "    with open(f'{i}_gigaam.txt', 'w', encoding='utf8') as f:\n",
        "        f.write(transcript)\n",
        "\n",
        "    print(f\"{i}.wav: RTF={rtf:.3f}  |  Транскрипция: {transcript.strip()}\")\n"
      ]
    },
    {
      "cell_type": "code",
      "execution_count": null,
      "id": "20a27973",
      "metadata": {
        "colab": {
          "base_uri": "https://localhost:8080/"
        },
        "id": "20a27973",
        "outputId": "466e9e47-d17b-41e8-9593-2a01c310195a"
      },
      "outputs": [
        {
          "name": "stdout",
          "output_type": "stream",
          "text": [
            "1.wav: WER=0.538 CER=0.147 RTF=0.035\n",
            "2.wav: WER=0.400 CER=0.075 RTF=0.033\n",
            "3.wav: WER=0.214 CER=0.036 RTF=0.035\n",
            "4.wav: WER=0.308 CER=0.080 RTF=0.038\n",
            "5.wav: WER=0.438 CER=0.082 RTF=0.030\n",
            "6.wav: WER=0.462 CER=0.100 RTF=0.032\n",
            "7.wav: WER=0.333 CER=0.047 RTF=0.033\n",
            "8.wav: WER=0.214 CER=0.043 RTF=0.034\n",
            "9.wav: WER=0.562 CER=0.349 RTF=0.032\n",
            "10.wav: WER=0.286 CER=0.048 RTF=0.032\n",
            "\n",
            "Среднее по метрикам:\n",
            "Средний WER = 0.376\n",
            "Средний CER = 0.101\n",
            "Средний RTF = 0.033\n"
          ]
        }
      ],
      "source": [
        "# Вычисляем метрики\n",
        "wers = []\n",
        "cers = []\n",
        "rtfs = []\n",
        "\n",
        "for i in range(1, 11):\n",
        "    with open(f'/content/drive/MyDrive/dataset/{i}.txt', 'r', encoding='utf8') as f:\n",
        "        reference = f.read().strip()\n",
        "\n",
        "    prediction = result[i]['transcript']\n",
        "    wer = wer_metric.compute(references=[reference], predictions=[prediction])\n",
        "    cer = cer_metric.compute(references=[reference], predictions=[prediction])\n",
        "    rtf = result[i]['rtf']\n",
        "\n",
        "    wers.append(wer)\n",
        "    cers.append(cer)\n",
        "    rtfs.append(rtf)\n",
        "\n",
        "    print(f\"{i}.wav: WER={wer:.3f} CER={cer:.3f} RTF={rtf:.3f}\")\n",
        "\n",
        "print(f\"\\nСреднее по метрикам:\")\n",
        "print(f\"Средний WER = {sum(wers) / len(wers):.3f}\")\n",
        "print(f\"Средний CER = {sum(cers) / len(cers):.3f}\")\n",
        "print(f\"Средний RTF = {sum(rtfs) / len(rtfs):.3f}\")\n"
      ]
    },
    {
      "cell_type": "code",
      "execution_count": null,
      "id": "hZLYIXO0Yf6r",
      "metadata": {
        "colab": {
          "base_uri": "https://localhost:8080/",
          "height": 607
        },
        "id": "hZLYIXO0Yf6r",
        "outputId": "791ff0a6-8850-4bf7-f781-4be6df4a9900"
      },
      "outputs": [
        {
          "data": {
            "image/png": "[encoded data removed]",
            "text/plain": [
              "<Figure size 1000x600 with 1 Axes>"
            ]
          },
          "metadata": {},
          "output_type": "display_data"
        }
      ],
      "source": [
        "import matplotlib.pyplot as plt\n",
        "import matplotlib.pyplot as plt\n",
        "import numpy as np\n",
        "\n",
        "# Исправленные названия моделей (Large вместо Small)\n",
        "models = [\n",
        "    'Whisper Medium',\n",
        "    'Whisper Medium (Prompt)',\n",
        "    'Whisper Large',\n",
        "    'Whisper Large (Prompt)',\n",
        "    'Vosk',\n",
        "    'Giga AM'\n",
        "]\n",
        "WER = [0.308, 0.321, 0.214, 0.222, 0.529, 0.376]\n",
        "CER = [0.137, 0.113, 0.065, 0.068, 0.143, 0.101]\n",
        "RTF = [0.171, 0.122, 0.199, 0.195, 0.163, 0.033]\n",
        "\n",
        "x = np.arange(len(models))\n",
        "width = 0.25\n",
        "\n",
        "fig, ax = plt.subplots(figsize=(10, 6))\n",
        "rects1 = ax.bar(x - width, WER, width, label='WER')\n",
        "rects2 = ax.bar(x, CER, width, label='CER')\n",
        "rects3 = ax.bar(x + width, RTF, width, label='RTF')\n",
        "\n",
        "ax.set_ylabel('Средние метрики')\n",
        "ax.set_title('Средние метрики по моделям ASR')\n",
        "ax.set_xticks(x)\n",
        "ax.set_xticklabels(models, rotation=20, ha='right')\n",
        "ax.legend()\n",
        "\n",
        "for rects in [rects1, rects2, rects3]:\n",
        "    for rect in rects:\n",
        "        height = rect.get_height()\n",
        "        ax.annotate(f'{height:.3f}',\n",
        "                    xy=(rect.get_x() + rect.get_width() / 2, height),\n",
        "                    xytext=(0, 3),\n",
        "                    textcoords=\"offset points\",\n",
        "                    ha='center', va='bottom', fontsize=10)\n",
        "plt.tight_layout()\n",
        "plt.show()\n",
        "\n",
        "fig, ax = plt.subplots(figsize=(10, 6))\n",
        "rects1 = ax.bar(x - width, WER, width, label='WER')\n",
        "rects2 = ax.bar(x, CER, width, label='CER')\n",
        "rects3 = ax.bar(x + width, RTF, width, label='RTF')\n",
        "\n",
        "ax.set_ylabel('Средние метрики')\n",
        "ax.set_title('Средние метрики по моделям ASR')\n",
        "ax.set_xticks(x)\n",
        "ax.set_xticklabels(models, rotation=20, ha='right')\n",
        "ax.legend()\n",
        "\n",
        "for rects in [rects1, rects2, rects3]:\n",
        "    for rect in rects:\n",
        "        height = rect.get_height()\n",
        "        ax.annotate(f'{height:.3f}',\n",
        "                    xy=(rect.get_x() + rect.get_width() / 2, height),\n",
        "                    xytext=(0, 3),\n",
        "                    textcoords=\"offset points\",\n",
        "                    ha='center', va='bottom', fontsize=10)\n",
        "plt.tight_layout()\n",
        "plt.show()\n"
      ]
    }
  ],
  "metadata": {
    "colab": {
      "provenance": []
    },
    "kernelspec": {
      "display_name": "giga",
      "language": "python",
      "name": "python3"
    },
    "language_info": {
      "codemirror_mode": {
        "name": "ipython",
        "version": 3
      },
      "file_extension": ".py",
      "mimetype": "text/x-python",
      "name": "python",
      "nbconvert_exporter": "python",
      "pygments_lexer": "ipython3",
      "version": "3.10.18"
    },
    "widgets": {
      "application/vnd.jupyter.widget-state+json": {
        "0cbca95940ce481dab02fcd787ab2ad2": {
          "model_module": "@jupyter-widgets/controls",
          "model_module_version": "1.5.0",
          "model_name": "FloatProgressModel",
          "state": {
            "_dom_classes": [],
            "_model_module": "@jupyter-widgets/controls",
            "_model_module_version": "1.5.0",
            "_model_name": "FloatProgressModel",
            "_view_count": null,
            "_view_module": "@jupyter-widgets/controls",
            "_view_module_version": "1.5.0",
            "_view_name": "ProgressView",
            "bar_style": "success",
            "description": "",
            "description_tooltip": null,
            "layout": "IPY_MODEL_37756a3308a44f748b95f73656ffbbb5",
            "max": 1,
            "min": 0,
            "orientation": "horizontal",
            "style": "IPY_MODEL_ef6dacbb66f046a0b925c0302bd3da2a",
            "value": 1
          }
        },
        "1c25e12bc808484080630f3ffbf859c5": {
          "model_module": "@jupyter-widgets/base",
          "model_module_version": "1.2.0",
          "model_name": "LayoutModel",
          "state": {
            "_model_module": "@jupyter-widgets/base",
            "_model_module_version": "1.2.0",
            "_model_name": "LayoutModel",
            "_view_count": null,
            "_view_module": "@jupyter-widgets/base",
            "_view_module_version": "1.2.0",
            "_view_name": "LayoutView",
            "align_content": null,
            "align_items": null,
            "align_self": null,
            "border": null,
            "bottom": null,
            "display": null,
            "flex": null,
            "flex_flow": null,
            "grid_area": null,
            "grid_auto_columns": null,
            "grid_auto_flow": null,
            "grid_auto_rows": null,
            "grid_column": null,
            "grid_gap": null,
            "grid_row": null,
            "grid_template_areas": null,
            "grid_template_columns": null,
            "grid_template_rows": null,
            "height": null,
            "justify_content": null,
            "justify_items": null,
            "left": null,
            "margin": null,
            "max_height": null,
            "max_width": null,
            "min_height": null,
            "min_width": null,
            "object_fit": null,
            "object_position": null,
            "order": null,
            "overflow": null,
            "overflow_x": null,
            "overflow_y": null,
            "padding": null,
            "right": null,
            "top": null,
            "visibility": null,
            "width": null
          }
        },
        "3580f65bead348b7a9e2d0d39b2e1c7e": {
          "model_module": "@jupyter-widgets/controls",
          "model_module_version": "1.5.0",
          "model_name": "HTMLModel",
          "state": {
            "_dom_classes": [],
            "_model_module": "@jupyter-widgets/controls",
            "_model_module_version": "1.5.0",
            "_model_name": "HTMLModel",
            "_view_count": null,
            "_view_module": "@jupyter-widgets/controls",
            "_view_module_version": "1.5.0",
            "_view_name": "HTMLView",
            "description": "",
            "description_tooltip": null,
            "layout": "IPY_MODEL_d65b14dba09f438a88005d8995224863",
            "placeholder": "​",
            "style": "IPY_MODEL_99af93eeb3a64f8cb0792a869ef475ab",
            "value": " 6.61k/? [00:00&lt;00:00, 358kB/s]"
          }
        },
        "37756a3308a44f748b95f73656ffbbb5": {
          "model_module": "@jupyter-widgets/base",
          "model_module_version": "1.2.0",
          "model_name": "LayoutModel",
          "state": {
            "_model_module": "@jupyter-widgets/base",
            "_model_module_version": "1.2.0",
            "_model_name": "LayoutModel",
            "_view_count": null,
            "_view_module": "@jupyter-widgets/base",
            "_view_module_version": "1.2.0",
            "_view_name": "LayoutView",
            "align_content": null,
            "align_items": null,
            "align_self": null,
            "border": null,
            "bottom": null,
            "display": null,
            "flex": null,
            "flex_flow": null,
            "grid_area": null,
            "grid_auto_columns": null,
            "grid_auto_flow": null,
            "grid_auto_rows": null,
            "grid_column": null,
            "grid_gap": null,
            "grid_row": null,
            "grid_template_areas": null,
            "grid_template_columns": null,
            "grid_template_rows": null,
            "height": null,
            "justify_content": null,
            "justify_items": null,
            "left": null,
            "margin": null,
            "max_height": null,
            "max_width": null,
            "min_height": null,
            "min_width": null,
            "object_fit": null,
            "object_position": null,
            "order": null,
            "overflow": null,
            "overflow_x": null,
            "overflow_y": null,
            "padding": null,
            "right": null,
            "top": null,
            "visibility": null,
            "width": "20px"
          }
        },
        "3a6257348aba48d3933011724fb84c1c": {
          "model_module": "@jupyter-widgets/base",
          "model_module_version": "1.2.0",
          "model_name": "LayoutModel",
          "state": {
            "_model_module": "@jupyter-widgets/base",
            "_model_module_version": "1.2.0",
            "_model_name": "LayoutModel",
            "_view_count": null,
            "_view_module": "@jupyter-widgets/base",
            "_view_module_version": "1.2.0",
            "_view_name": "LayoutView",
            "align_content": null,
            "align_items": null,
            "align_self": null,
            "border": null,
            "bottom": null,
            "display": null,
            "flex": null,
            "flex_flow": null,
            "grid_area": null,
            "grid_auto_columns": null,
            "grid_auto_flow": null,
            "grid_auto_rows": null,
            "grid_column": null,
            "grid_gap": null,
            "grid_row": null,
            "grid_template_areas": null,
            "grid_template_columns": null,
            "grid_template_rows": null,
            "height": null,
            "justify_content": null,
            "justify_items": null,
            "left": null,
            "margin": null,
            "max_height": null,
            "max_width": null,
            "min_height": null,
            "min_width": null,
            "object_fit": null,
            "object_position": null,
            "order": null,
            "overflow": null,
            "overflow_x": null,
            "overflow_y": null,
            "padding": null,
            "right": null,
            "top": null,
            "visibility": null,
            "width": "20px"
          }
        },
        "3f4aaa560fca43f2aa9bdb947de1cb1e": {
          "model_module": "@jupyter-widgets/controls",
          "model_module_version": "1.5.0",
          "model_name": "ProgressStyleModel",
          "state": {
            "_model_module": "@jupyter-widgets/controls",
            "_model_module_version": "1.5.0",
            "_model_name": "ProgressStyleModel",
            "_view_count": null,
            "_view_module": "@jupyter-widgets/base",
            "_view_module_version": "1.2.0",
            "_view_name": "StyleView",
            "bar_color": null,
            "description_width": ""
          }
        },
        "49da6e8f59844e04b2d5fe03f415d9bb": {
          "model_module": "@jupyter-widgets/base",
          "model_module_version": "1.2.0",
          "model_name": "LayoutModel",
          "state": {
            "_model_module": "@jupyter-widgets/base",
            "_model_module_version": "1.2.0",
            "_model_name": "LayoutModel",
            "_view_count": null,
            "_view_module": "@jupyter-widgets/base",
            "_view_module_version": "1.2.0",
            "_view_name": "LayoutView",
            "align_content": null,
            "align_items": null,
            "align_self": null,
            "border": null,
            "bottom": null,
            "display": null,
            "flex": null,
            "flex_flow": null,
            "grid_area": null,
            "grid_auto_columns": null,
            "grid_auto_flow": null,
            "grid_auto_rows": null,
            "grid_column": null,
            "grid_gap": null,
            "grid_row": null,
            "grid_template_areas": null,
            "grid_template_columns": null,
            "grid_template_rows": null,
            "height": null,
            "justify_content": null,
            "justify_items": null,
            "left": null,
            "margin": null,
            "max_height": null,
            "max_width": null,
            "min_height": null,
            "min_width": null,
            "object_fit": null,
            "object_position": null,
            "order": null,
            "overflow": null,
            "overflow_x": null,
            "overflow_y": null,
            "padding": null,
            "right": null,
            "top": null,
            "visibility": null,
            "width": null
          }
        },
        "63f13c299d1e4395ab718d18970ec35d": {
          "model_module": "@jupyter-widgets/controls",
          "model_module_version": "1.5.0",
          "model_name": "DescriptionStyleModel",
          "state": {
            "_model_module": "@jupyter-widgets/controls",
            "_model_module_version": "1.5.0",
            "_model_name": "DescriptionStyleModel",
            "_view_count": null,
            "_view_module": "@jupyter-widgets/base",
            "_view_module_version": "1.2.0",
            "_view_name": "StyleView",
            "description_width": ""
          }
        },
        "65a411936a6840f3ba356183dad08dc6": {
          "model_module": "@jupyter-widgets/controls",
          "model_module_version": "1.5.0",
          "model_name": "FloatProgressModel",
          "state": {
            "_dom_classes": [],
            "_model_module": "@jupyter-widgets/controls",
            "_model_module_version": "1.5.0",
            "_model_name": "FloatProgressModel",
            "_view_count": null,
            "_view_module": "@jupyter-widgets/controls",
            "_view_module_version": "1.5.0",
            "_view_name": "ProgressView",
            "bar_style": "success",
            "description": "",
            "description_tooltip": null,
            "layout": "IPY_MODEL_3a6257348aba48d3933011724fb84c1c",
            "max": 1,
            "min": 0,
            "orientation": "horizontal",
            "style": "IPY_MODEL_3f4aaa560fca43f2aa9bdb947de1cb1e",
            "value": 1
          }
        },
        "75235d37e5a4426f9b7b2166582282c1": {
          "model_module": "@jupyter-widgets/controls",
          "model_module_version": "1.5.0",
          "model_name": "HTMLModel",
          "state": {
            "_dom_classes": [],
            "_model_module": "@jupyter-widgets/controls",
            "_model_module_version": "1.5.0",
            "_model_name": "HTMLModel",
            "_view_count": null,
            "_view_module": "@jupyter-widgets/controls",
            "_view_module_version": "1.5.0",
            "_view_name": "HTMLView",
            "description": "",
            "description_tooltip": null,
            "layout": "IPY_MODEL_a8b6e520bea94eb1964610a3b315e77b",
            "placeholder": "​",
            "style": "IPY_MODEL_63f13c299d1e4395ab718d18970ec35d",
            "value": " 5.13k/? [00:00&lt;00:00, 457kB/s]"
          }
        },
        "78539bf65c9249d99e435859759fc7a8": {
          "model_module": "@jupyter-widgets/controls",
          "model_module_version": "1.5.0",
          "model_name": "HTMLModel",
          "state": {
            "_dom_classes": [],
            "_model_module": "@jupyter-widgets/controls",
            "_model_module_version": "1.5.0",
            "_model_name": "HTMLModel",
            "_view_count": null,
            "_view_module": "@jupyter-widgets/controls",
            "_view_module_version": "1.5.0",
            "_view_name": "HTMLView",
            "description": "",
            "description_tooltip": null,
            "layout": "IPY_MODEL_97bffa3d6de04b12bd9698dc6f3da9eb",
            "placeholder": "​",
            "style": "IPY_MODEL_aa6c665aff3646d8a9064c46865f3db0",
            "value": "Downloading builder script: "
          }
        },
        "8311f120b3ca4623bb2cb2c549e93113": {
          "model_module": "@jupyter-widgets/controls",
          "model_module_version": "1.5.0",
          "model_name": "HBoxModel",
          "state": {
            "_dom_classes": [],
            "_model_module": "@jupyter-widgets/controls",
            "_model_module_version": "1.5.0",
            "_model_name": "HBoxModel",
            "_view_count": null,
            "_view_module": "@jupyter-widgets/controls",
            "_view_module_version": "1.5.0",
            "_view_name": "HBoxView",
            "box_style": "",
            "children": [
              "IPY_MODEL_a65dcd954ebc44e2a3dde4dc70ea4953",
              "IPY_MODEL_0cbca95940ce481dab02fcd787ab2ad2",
              "IPY_MODEL_3580f65bead348b7a9e2d0d39b2e1c7e"
            ],
            "layout": "IPY_MODEL_f519e7c0661048d384a8d72d3230e283"
          }
        },
        "97bffa3d6de04b12bd9698dc6f3da9eb": {
          "model_module": "@jupyter-widgets/base",
          "model_module_version": "1.2.0",
          "model_name": "LayoutModel",
          "state": {
            "_model_module": "@jupyter-widgets/base",
            "_model_module_version": "1.2.0",
            "_model_name": "LayoutModel",
            "_view_count": null,
            "_view_module": "@jupyter-widgets/base",
            "_view_module_version": "1.2.0",
            "_view_name": "LayoutView",
            "align_content": null,
            "align_items": null,
            "align_self": null,
            "border": null,
            "bottom": null,
            "display": null,
            "flex": null,
            "flex_flow": null,
            "grid_area": null,
            "grid_auto_columns": null,
            "grid_auto_flow": null,
            "grid_auto_rows": null,
            "grid_column": null,
            "grid_gap": null,
            "grid_row": null,
            "grid_template_areas": null,
            "grid_template_columns": null,
            "grid_template_rows": null,
            "height": null,
            "justify_content": null,
            "justify_items": null,
            "left": null,
            "margin": null,
            "max_height": null,
            "max_width": null,
            "min_height": null,
            "min_width": null,
            "object_fit": null,
            "object_position": null,
            "order": null,
            "overflow": null,
            "overflow_x": null,
            "overflow_y": null,
            "padding": null,
            "right": null,
            "top": null,
            "visibility": null,
            "width": null
          }
        },
        "99af93eeb3a64f8cb0792a869ef475ab": {
          "model_module": "@jupyter-widgets/controls",
          "model_module_version": "1.5.0",
          "model_name": "DescriptionStyleModel",
          "state": {
            "_model_module": "@jupyter-widgets/controls",
            "_model_module_version": "1.5.0",
            "_model_name": "DescriptionStyleModel",
            "_view_count": null,
            "_view_module": "@jupyter-widgets/base",
            "_view_module_version": "1.2.0",
            "_view_name": "StyleView",
            "description_width": ""
          }
        },
        "a40ecafe7c604e358e1f670c6b3eef17": {
          "model_module": "@jupyter-widgets/controls",
          "model_module_version": "1.5.0",
          "model_name": "DescriptionStyleModel",
          "state": {
            "_model_module": "@jupyter-widgets/controls",
            "_model_module_version": "1.5.0",
            "_model_name": "DescriptionStyleModel",
            "_view_count": null,
            "_view_module": "@jupyter-widgets/base",
            "_view_module_version": "1.2.0",
            "_view_name": "StyleView",
            "description_width": ""
          }
        },
        "a46d016c9c6a44ea913e8e35b7ab3a44": {
          "model_module": "@jupyter-widgets/controls",
          "model_module_version": "1.5.0",
          "model_name": "HBoxModel",
          "state": {
            "_dom_classes": [],
            "_model_module": "@jupyter-widgets/controls",
            "_model_module_version": "1.5.0",
            "_model_name": "HBoxModel",
            "_view_count": null,
            "_view_module": "@jupyter-widgets/controls",
            "_view_module_version": "1.5.0",
            "_view_name": "HBoxView",
            "box_style": "",
            "children": [
              "IPY_MODEL_78539bf65c9249d99e435859759fc7a8",
              "IPY_MODEL_65a411936a6840f3ba356183dad08dc6",
              "IPY_MODEL_75235d37e5a4426f9b7b2166582282c1"
            ],
            "layout": "IPY_MODEL_49da6e8f59844e04b2d5fe03f415d9bb"
          }
        },
        "a65dcd954ebc44e2a3dde4dc70ea4953": {
          "model_module": "@jupyter-widgets/controls",
          "model_module_version": "1.5.0",
          "model_name": "HTMLModel",
          "state": {
            "_dom_classes": [],
            "_model_module": "@jupyter-widgets/controls",
            "_model_module_version": "1.5.0",
            "_model_name": "HTMLModel",
            "_view_count": null,
            "_view_module": "@jupyter-widgets/controls",
            "_view_module_version": "1.5.0",
            "_view_name": "HTMLView",
            "description": "",
            "description_tooltip": null,
            "layout": "IPY_MODEL_1c25e12bc808484080630f3ffbf859c5",
            "placeholder": "​",
            "style": "IPY_MODEL_a40ecafe7c604e358e1f670c6b3eef17",
            "value": "Downloading builder script: "
          }
        },
        "a8b6e520bea94eb1964610a3b315e77b": {
          "model_module": "@jupyter-widgets/base",
          "model_module_version": "1.2.0",
          "model_name": "LayoutModel",
          "state": {
            "_model_module": "@jupyter-widgets/base",
            "_model_module_version": "1.2.0",
            "_model_name": "LayoutModel",
            "_view_count": null,
            "_view_module": "@jupyter-widgets/base",
            "_view_module_version": "1.2.0",
            "_view_name": "LayoutView",
            "align_content": null,
            "align_items": null,
            "align_self": null,
            "border": null,
            "bottom": null,
            "display": null,
            "flex": null,
            "flex_flow": null,
            "grid_area": null,
            "grid_auto_columns": null,
            "grid_auto_flow": null,
            "grid_auto_rows": null,
            "grid_column": null,
            "grid_gap": null,
            "grid_row": null,
            "grid_template_areas": null,
            "grid_template_columns": null,
            "grid_template_rows": null,
            "height": null,
            "justify_content": null,
            "justify_items": null,
            "left": null,
            "margin": null,
            "max_height": null,
            "max_width": null,
            "min_height": null,
            "min_width": null,
            "object_fit": null,
            "object_position": null,
            "order": null,
            "overflow": null,
            "overflow_x": null,
            "overflow_y": null,
            "padding": null,
            "right": null,
            "top": null,
            "visibility": null,
            "width": null
          }
        },
        "aa6c665aff3646d8a9064c46865f3db0": {
          "model_module": "@jupyter-widgets/controls",
          "model_module_version": "1.5.0",
          "model_name": "DescriptionStyleModel",
          "state": {
            "_model_module": "@jupyter-widgets/controls",
            "_model_module_version": "1.5.0",
            "_model_name": "DescriptionStyleModel",
            "_view_count": null,
            "_view_module": "@jupyter-widgets/base",
            "_view_module_version": "1.2.0",
            "_view_name": "StyleView",
            "description_width": ""
          }
        },
        "d65b14dba09f438a88005d8995224863": {
          "model_module": "@jupyter-widgets/base",
          "model_module_version": "1.2.0",
          "model_name": "LayoutModel",
          "state": {
            "_model_module": "@jupyter-widgets/base",
            "_model_module_version": "1.2.0",
            "_model_name": "LayoutModel",
            "_view_count": null,
            "_view_module": "@jupyter-widgets/base",
            "_view_module_version": "1.2.0",
            "_view_name": "LayoutView",
            "align_content": null,
            "align_items": null,
            "align_self": null,
            "border": null,
            "bottom": null,
            "display": null,
            "flex": null,
            "flex_flow": null,
            "grid_area": null,
            "grid_auto_columns": null,
            "grid_auto_flow": null,
            "grid_auto_rows": null,
            "grid_column": null,
            "grid_gap": null,
            "grid_row": null,
            "grid_template_areas": null,
            "grid_template_columns": null,
            "grid_template_rows": null,
            "height": null,
            "justify_content": null,
            "justify_items": null,
            "left": null,
            "margin": null,
            "max_height": null,
            "max_width": null,
            "min_height": null,
            "min_width": null,
            "object_fit": null,
            "object_position": null,
            "order": null,
            "overflow": null,
            "overflow_x": null,
            "overflow_y": null,
            "padding": null,
            "right": null,
            "top": null,
            "visibility": null,
            "width": null
          }
        },
        "ef6dacbb66f046a0b925c0302bd3da2a": {
          "model_module": "@jupyter-widgets/controls",
          "model_module_version": "1.5.0",
          "model_name": "ProgressStyleModel",
          "state": {
            "_model_module": "@jupyter-widgets/controls",
            "_model_module_version": "1.5.0",
            "_model_name": "ProgressStyleModel",
            "_view_count": null,
            "_view_module": "@jupyter-widgets/base",
            "_view_module_version": "1.2.0",
            "_view_name": "StyleView",
            "bar_color": null,
            "description_width": ""
          }
        },
        "f519e7c0661048d384a8d72d3230e283": {
          "model_module": "@jupyter-widgets/base",
          "model_module_version": "1.2.0",
          "model_name": "LayoutModel",
          "state": {
            "_model_module": "@jupyter-widgets/base",
            "_model_module_version": "1.2.0",
            "_model_name": "LayoutModel",
            "_view_count": null,
            "_view_module": "@jupyter-widgets/base",
            "_view_module_version": "1.2.0",
            "_view_name": "LayoutView",
            "align_content": null,
            "align_items": null,
            "align_self": null,
            "border": null,
            "bottom": null,
            "display": null,
            "flex": null,
            "flex_flow": null,
            "grid_area": null,
            "grid_auto_columns": null,
            "grid_auto_flow": null,
            "grid_auto_rows": null,
            "grid_column": null,
            "grid_gap": null,
            "grid_row": null,
            "grid_template_areas": null,
            "grid_template_columns": null,
            "grid_template_rows": null,
            "height": null,
            "justify_content": null,
            "justify_items": null,
            "left": null,
            "margin": null,
            "max_height": null,
            "max_width": null,
            "min_height": null,
            "min_width": null,
            "object_fit": null,
            "object_position": null,
            "order": null,
            "overflow": null,
            "overflow_x": null,
            "overflow_y": null,
            "padding": null,
            "right": null,
            "top": null,
            "visibility": null,
            "width": null
          }
        }
      }
    }
  },
  "nbformat": 4,
  "nbformat_minor": 5
}
